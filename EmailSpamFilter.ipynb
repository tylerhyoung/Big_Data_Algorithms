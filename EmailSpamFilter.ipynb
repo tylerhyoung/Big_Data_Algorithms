{
 "cells": [
  {
   "cell_type": "markdown",
   "metadata": {},
   "source": [
    "### Email Spam Filter"
   ]
  },
  {
   "cell_type": "code",
   "execution_count": 1,
   "metadata": {},
   "outputs": [],
   "source": [
    "import findspark\n",
    "findspark.init()\n",
    "import pyspark"
   ]
  },
  {
   "cell_type": "code",
   "execution_count": 2,
   "metadata": {},
   "outputs": [],
   "source": [
    "sc = pyspark.SparkContext(appName = 'SpamFilter')"
   ]
  },
  {
   "cell_type": "code",
   "execution_count": 3,
   "metadata": {},
   "outputs": [],
   "source": [
    "from pyspark.mllib.feature import HashingTF, IDF\n",
    "from pyspark.mllib.linalg import SparseVector\n",
    "from pyspark.mllib.regression import LabeledPoint\n",
    "from pyspark.mllib.classification import LogisticRegressionWithSGD\n",
    "from numpy import array\n",
    "import pandas as pd"
   ]
  },
  {
   "cell_type": "markdown",
   "metadata": {},
   "source": [
    "##### Load Data"
   ]
  },
  {
   "cell_type": "code",
   "execution_count": 4,
   "metadata": {},
   "outputs": [],
   "source": [
    "nospam = sc.textFile(\"emails_nospam.txt\")\n",
    "spam = sc.textFile(\"emails_spam.txt\")\n",
    "query = sc.textFile(\"query.txt\")"
   ]
  },
  {
   "cell_type": "markdown",
   "metadata": {},
   "source": [
    "##### Split words and hash"
   ]
  },
  {
   "cell_type": "code",
   "execution_count": 5,
   "metadata": {},
   "outputs": [],
   "source": [
    "features = HashingTF(numFeatures=1000)"
   ]
  },
  {
   "cell_type": "code",
   "execution_count": 6,
   "metadata": {},
   "outputs": [],
   "source": [
    "features_spam = spam.map(lambda x: features.transform(x.split(\" \")))\n",
    "features_nospam = nospam.map(lambda x: features.transform(x.split(\" \")))\n",
    "features_query = query.map(lambda x: (features.transform(x.split(\" \")),x))"
   ]
  },
  {
   "cell_type": "markdown",
   "metadata": {},
   "source": [
    "##### Label Data to be used for predict and classify."
   ]
  },
  {
   "cell_type": "code",
   "execution_count": 7,
   "metadata": {},
   "outputs": [],
   "source": [
    "pos = features_spam.map(lambda x: LabeledPoint(1, x))\n",
    "neg = features_nospam.map(lambda x: LabeledPoint(0, x))\n",
    "query_class = features_query.map(lambda x: ((LabeledPoint(0, x[0])),x[1]))"
   ]
  },
  {
   "cell_type": "markdown",
   "metadata": {},
   "source": [
    "##### Join data and train the logistic model."
   ]
  },
  {
   "cell_type": "code",
   "execution_count": 8,
   "metadata": {},
   "outputs": [],
   "source": [
    "data = pos.union(neg)\n",
    "logistic_reg = LogisticRegressionWithSGD()\n",
    "model = logistic_reg.train(data)"
   ]
  },
  {
   "cell_type": "code",
   "execution_count": 9,
   "metadata": {},
   "outputs": [],
   "source": [
    "classify = query_class.map(lambda x: (model.predict(x[0].features),x[1]))"
   ]
  },
  {
   "cell_type": "markdown",
   "metadata": {},
   "source": [
    "##### Output of the model's classification with each email from 'query.txt'."
   ]
  },
  {
   "cell_type": "code",
   "execution_count": 12,
   "metadata": {},
   "outputs": [
    {
     "data": {
      "text/plain": [
       "[(1,\n",
       "  u\"this is a year of promotion for Galaxy End of YearPromo You have 1 week remaining to retrieve your won prize for the Samsung Galaxy Xmas Promo 'C' draw category winning prize of Seven Hundred and Fifty Thousand Euros each and a Samsung Galaxy S6 EDGE. Winning Ticket Number:WIN-707-COS.  We advise you to keep this winning notification confidential and away from public notice to avoid double claim/mistransfer or impersonation until after remittance/payment to you.\"),\n",
       " (1,\n",
       "  u\"you are the lucky one: We've picked out 10 new matches for you. Meet them now and then check out all the singles in your area! you might win a prize too\"),\n",
       " (1,\n",
       "  u'Do not miss your chances: Get Viagra real cheap!  Send money right away to ...'),\n",
       " (1,\n",
       "  u'Get real money fast: With my position in the office i assure you with 100% risk free that this transaction is not a childish game play and i want you to indicate your full interest with assurance of trust that you will not betray me once the fund is transfer into your nominated bank account, while i look forward for your urgent reply.'),\n",
       " (0,\n",
       "  u'Dear Spark Learner, Thanks so much for attending the Spark Summit 2014!  Check out videos of talks from the summit at ...'),\n",
       " (0,\n",
       "  u'Hi Mom, Apologies for being late about emailing and forgetting to send you the package.  I hope you and bro have been ...'),\n",
       " (0,\n",
       "  u'Wow, hey Fred, just heard about the Spark petabyte sort.  I think we need to take time to try it out immediately ...'),\n",
       " (0,\n",
       "  u'Hi Spark user list, This is my first question to this list, so thanks in advance for your help!  I tried running ...'),\n",
       " (1,\n",
       "  u'Please do not reply to this email, as mail sent to this address cannot be answered. If you have questions please visit our Customer Support page and select the applicable contact method. '),\n",
       " (0,\n",
       "  u'Hi Mahmoud, Are you ready to sharpen your Apache Spark skills? This year at Spark + AI Summit, you\\u2019ll have the opportunity to take a full day of training (June 4th), that includes hands-on exercises and tutorials taught by leading industry experts. ')]"
      ]
     },
     "execution_count": 12,
     "metadata": {},
     "output_type": "execute_result"
    }
   ],
   "source": [
    "classify.collect()"
   ]
  },
  {
   "cell_type": "markdown",
   "metadata": {},
   "source": [
    "##### Accuracy of Model by predicting using the training data."
   ]
  },
  {
   "cell_type": "code",
   "execution_count": 13,
   "metadata": {},
   "outputs": [],
   "source": [
    "predictedlabel = data.map(lambda x: (model.predict(x.features), x.label))"
   ]
  },
  {
   "cell_type": "code",
   "execution_count": 14,
   "metadata": {},
   "outputs": [],
   "source": [
    "df = pd.DataFrame(data = predictedlabel.collect()).rename(columns = {0: 'Predicted', 1:'Actual'})"
   ]
  },
  {
   "cell_type": "code",
   "execution_count": 15,
   "metadata": {},
   "outputs": [],
   "source": [
    "df['Misclassified'] = abs(df['Predicted'] - df['Actual'])"
   ]
  },
  {
   "cell_type": "code",
   "execution_count": 18,
   "metadata": {},
   "outputs": [
    {
     "data": {
      "text/html": [
       "<div>\n",
       "<style scoped>\n",
       "    .dataframe tbody tr th:only-of-type {\n",
       "        vertical-align: middle;\n",
       "    }\n",
       "\n",
       "    .dataframe tbody tr th {\n",
       "        vertical-align: top;\n",
       "    }\n",
       "\n",
       "    .dataframe thead th {\n",
       "        text-align: right;\n",
       "    }\n",
       "</style>\n",
       "<table border=\"1\" class=\"dataframe\">\n",
       "  <thead>\n",
       "    <tr style=\"text-align: right;\">\n",
       "      <th></th>\n",
       "      <th>Predicted</th>\n",
       "      <th>Actual</th>\n",
       "      <th>Misclassified</th>\n",
       "    </tr>\n",
       "  </thead>\n",
       "  <tbody>\n",
       "    <tr>\n",
       "      <th>0</th>\n",
       "      <td>1</td>\n",
       "      <td>1.0</td>\n",
       "      <td>0.0</td>\n",
       "    </tr>\n",
       "    <tr>\n",
       "      <th>1</th>\n",
       "      <td>1</td>\n",
       "      <td>1.0</td>\n",
       "      <td>0.0</td>\n",
       "    </tr>\n",
       "    <tr>\n",
       "      <th>2</th>\n",
       "      <td>1</td>\n",
       "      <td>1.0</td>\n",
       "      <td>0.0</td>\n",
       "    </tr>\n",
       "    <tr>\n",
       "      <th>3</th>\n",
       "      <td>1</td>\n",
       "      <td>1.0</td>\n",
       "      <td>0.0</td>\n",
       "    </tr>\n",
       "    <tr>\n",
       "      <th>4</th>\n",
       "      <td>1</td>\n",
       "      <td>1.0</td>\n",
       "      <td>0.0</td>\n",
       "    </tr>\n",
       "  </tbody>\n",
       "</table>\n",
       "</div>"
      ],
      "text/plain": [
       "   Predicted  Actual  Misclassified\n",
       "0          1     1.0            0.0\n",
       "1          1     1.0            0.0\n",
       "2          1     1.0            0.0\n",
       "3          1     1.0            0.0\n",
       "4          1     1.0            0.0"
      ]
     },
     "execution_count": 18,
     "metadata": {},
     "output_type": "execute_result"
    }
   ],
   "source": [
    "df.head()"
   ]
  },
  {
   "cell_type": "code",
   "execution_count": 19,
   "metadata": {},
   "outputs": [],
   "source": [
    "spam_df = df[df['Actual'] ==1.0]"
   ]
  },
  {
   "cell_type": "code",
   "execution_count": 20,
   "metadata": {},
   "outputs": [],
   "source": [
    "nonspam_df = df[df['Actual'] ==0.0]"
   ]
  },
  {
   "cell_type": "code",
   "execution_count": 22,
   "metadata": {},
   "outputs": [
    {
     "name": "stdout",
     "output_type": "stream",
     "text": [
      "Overall Accuracy of Model: 100.0 %\n"
     ]
    }
   ],
   "source": [
    "Overall_Accuracy = 100*(1 - df['Misclassified'].sum()/ df['Actual'].count())\n",
    "print \"Overall Accuracy of Model:\",Overall_Accuracy,'%'"
   ]
  },
  {
   "cell_type": "code",
   "execution_count": 23,
   "metadata": {},
   "outputs": [
    {
     "name": "stdout",
     "output_type": "stream",
     "text": [
      "Spam Accuracy of Model: 100.0 %\n"
     ]
    }
   ],
   "source": [
    "Spam_Accuracy = 100*(1 - spam_df['Misclassified'].sum()/ spam_df['Actual'].count())\n",
    "print \"Spam Accuracy of Model:\",Spam_Accuracy,'%'"
   ]
  },
  {
   "cell_type": "code",
   "execution_count": 24,
   "metadata": {},
   "outputs": [
    {
     "name": "stdout",
     "output_type": "stream",
     "text": [
      "Non-Spam Accuracy of Model: 100.0 %\n"
     ]
    }
   ],
   "source": [
    "nonspam_Accuracy = 100*(1 - nonspam_df['Misclassified'].sum()/ nonspam_df['Actual'].count())\n",
    "print \"Non-Spam Accuracy of Model:\",nonspam_Accuracy,'%'"
   ]
  }
 ],
 "metadata": {
  "kernelspec": {
   "display_name": "Python 3",
   "language": "python",
   "name": "python3"
  },
  "language_info": {
   "codemirror_mode": {
    "name": "ipython",
    "version": 3
   },
   "file_extension": ".py",
   "mimetype": "text/x-python",
   "name": "python",
   "nbconvert_exporter": "python",
   "pygments_lexer": "ipython3",
   "version": "3.6.5"
  }
 },
 "nbformat": 4,
 "nbformat_minor": 2
}
